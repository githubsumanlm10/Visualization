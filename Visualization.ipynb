{
 "cells": [
  {
   "cell_type": "code",
   "execution_count": 56,
   "metadata": {},
   "outputs": [],
   "source": [
    "import numpy as np\n",
    "import pandas as pd\n",
    "import seaborn as sns\n",
    "import matplotlib.pyplot as plt\n",
    "%matplotlib inline"
   ]
  },
  {
   "cell_type": "code",
   "execution_count": 52,
   "metadata": {},
   "outputs": [
    {
     "data": {
      "text/html": [
       "<div>\n",
       "<style scoped>\n",
       "    .dataframe tbody tr th:only-of-type {\n",
       "        vertical-align: middle;\n",
       "    }\n",
       "\n",
       "    .dataframe tbody tr th {\n",
       "        vertical-align: top;\n",
       "    }\n",
       "\n",
       "    .dataframe thead th {\n",
       "        text-align: right;\n",
       "    }\n",
       "</style>\n",
       "<table border=\"1\" class=\"dataframe\">\n",
       "  <thead>\n",
       "    <tr style=\"text-align: right;\">\n",
       "      <th></th>\n",
       "      <th>loan_amnt</th>\n",
       "      <th>int_rate</th>\n",
       "      <th>annual_inc</th>\n",
       "      <th>loan_status</th>\n",
       "      <th>open_acc</th>\n",
       "      <th>open_il_12m</th>\n",
       "    </tr>\n",
       "  </thead>\n",
       "  <tbody>\n",
       "    <tr>\n",
       "      <td>3817</td>\n",
       "      <td>14000</td>\n",
       "      <td>8.90%</td>\n",
       "      <td>65000.0</td>\n",
       "      <td>Fully Paid</td>\n",
       "      <td>7</td>\n",
       "      <td>NaN</td>\n",
       "    </tr>\n",
       "    <tr>\n",
       "      <td>36567</td>\n",
       "      <td>9800</td>\n",
       "      <td>16.32%</td>\n",
       "      <td>50000.0</td>\n",
       "      <td>Fully Paid</td>\n",
       "      <td>14</td>\n",
       "      <td>NaN</td>\n",
       "    </tr>\n",
       "    <tr>\n",
       "      <td>35595</td>\n",
       "      <td>5000</td>\n",
       "      <td>12.53%</td>\n",
       "      <td>19200.0</td>\n",
       "      <td>Fully Paid</td>\n",
       "      <td>8</td>\n",
       "      <td>NaN</td>\n",
       "    </tr>\n",
       "    <tr>\n",
       "      <td>22424</td>\n",
       "      <td>3000</td>\n",
       "      <td>8.88%</td>\n",
       "      <td>56000.0</td>\n",
       "      <td>Fully Paid</td>\n",
       "      <td>10</td>\n",
       "      <td>NaN</td>\n",
       "    </tr>\n",
       "    <tr>\n",
       "      <td>12450</td>\n",
       "      <td>5000</td>\n",
       "      <td>10.99%</td>\n",
       "      <td>19200.0</td>\n",
       "      <td>Charged Off</td>\n",
       "      <td>4</td>\n",
       "      <td>NaN</td>\n",
       "    </tr>\n",
       "  </tbody>\n",
       "</table>\n",
       "</div>"
      ],
      "text/plain": [
       "       loan_amnt int_rate  annual_inc  loan_status  open_acc  open_il_12m\n",
       "3817       14000    8.90%     65000.0   Fully Paid         7          NaN\n",
       "36567       9800   16.32%     50000.0   Fully Paid        14          NaN\n",
       "35595       5000   12.53%     19200.0   Fully Paid         8          NaN\n",
       "22424       3000    8.88%     56000.0   Fully Paid        10          NaN\n",
       "12450       5000   10.99%     19200.0  Charged Off         4          NaN"
      ]
     },
     "execution_count": 52,
     "metadata": {},
     "output_type": "execute_result"
    }
   ],
   "source": [
    "use_cols=['loan_amnt', 'int_rate', 'annual_inc', 'open_acc', 'loan_status', 'open_il_12m']\n",
    "\n",
    "df=pd.read_csv('loan.csv', usecols=use_cols).sample(1000)\n",
    "df.head()"
   ]
  },
  {
   "cell_type": "code",
   "execution_count": 34,
   "metadata": {},
   "outputs": [
    {
     "data": {
      "text/plain": [
       "array([10000, 30000,  6400, 16000, 35000,  5000, 12000, 25000, 14000,\n",
       "       13250, 21000,  2000, 10200, 22250,  1000,  4000, 24250, 15000,\n",
       "       11000,  2400,  3975, 22000,  5500,  9000, 32875, 18000,  4800,\n",
       "        6000,  7000,  2800,  5200,  4575,  1500,  9600,  3500,  6625,\n",
       "        5125,  2500,  5950, 20000, 17000, 13800,  5600,  7750,  8000,\n",
       "       18550, 15600,  6500,  1200, 24000,  3600,  8500, 13500,  5050,\n",
       "        3000, 10500, 12500,  4500,  8400,  9325, 28000,  9575, 12875,\n",
       "        1375,  6250, 19200,  3300,  3250,  5400, 10075,  7200, 29900,\n",
       "       10800, 11200, 17250,  6800,  3850,  3200, 15850,  9250,  8075,\n",
       "       18400, 14400,  1300, 17850,  9950,  2550, 32000,  3125,  7500,\n",
       "        7450,  4100, 24625,  3050,  9425, 22750, 20250,  8875,  6600,\n",
       "        7675, 11100,  9500, 19600, 18250,  8575, 17050, 13475,  4200,\n",
       "       23500,  8650, 19000,  1600, 13200,  4750, 22500, 21600,  6725,\n",
       "        8800, 26000, 13750,  4850, 32250, 16500,  2100, 16800,  9100,\n",
       "        6850, 23000, 31825, 12950,  1800, 13900, 13000,  7350,  7050,\n",
       "        7125,  5550,  8475,  5850, 19500, 14500,  9750, 13225,  4125,\n",
       "        5100,   500,  7800, 21850,  4400,  3400, 10400, 14475, 17475,\n",
       "        8700, 12250,  1750,  9800, 22400,  3650,  8300, 26500,  3100,\n",
       "        5300,  5900, 19750, 15500, 11500,  9900,  3800, 27175,  6200,\n",
       "        2600,  4925, 16950, 15450, 21400, 16600, 21300, 27200,  7225,\n",
       "        3525, 12325, 27000], dtype=int64)"
      ]
     },
     "execution_count": 34,
     "metadata": {},
     "output_type": "execute_result"
    }
   ],
   "source": [
    "df['loan_amnt'].unique()"
   ]
  },
  {
   "cell_type": "code",
   "execution_count": 35,
   "metadata": {},
   "outputs": [
    {
     "data": {
      "text/plain": [
       "<matplotlib.legend.Legend at 0x1444ce5d788>"
      ]
     },
     "execution_count": 35,
     "metadata": {},
     "output_type": "execute_result"
    },
    {
     "data": {
      "image/png": "[encoded data removed]",
      "text/plain": [
       "<Figure size 432x288 with 1 Axes>"
      ]
     },
     "metadata": {
      "needs_background": "light"
     },
     "output_type": "display_data"
    }
   ],
   "source": [
    "fig=df['loan_amnt'].hist()\n",
    "fig.set_xlabel('Loan Amount')\n",
    "fig.set_ylabel('No of Loans')\n",
    "fig.set_title('Distribution of Data')\n",
    "fig.legend('loans')"
   ]
  },
  {
   "cell_type": "code",
   "execution_count": 18,
   "metadata": {},
   "outputs": [
    {
     "data": {
      "text/plain": [
       "6000000.0"
      ]
     },
     "execution_count": 18,
     "metadata": {},
     "output_type": "execute_result"
    }
   ],
   "source": [
    "max(df['annual_inc'])"
   ]
  },
  {
   "cell_type": "code",
   "execution_count": 36,
   "metadata": {},
   "outputs": [
    {
     "data": {
      "text/plain": [
       "(0, 60)"
      ]
     },
     "execution_count": 36,
     "metadata": {},
     "output_type": "execute_result"
    },
    {
     "data": {
      "image/png": "[encoded data removed]",
      "text/plain": [
       "<Figure size 432x288 with 1 Axes>"
      ]
     },
     "metadata": {
      "needs_background": "light"
     },
     "output_type": "display_data"
    }
   ],
   "source": [
    "histo = df['annual_inc'].hist()\n",
    "histo.set_xlabel('Annual Income')\n",
    "histo.set_ylabel('No of Borrower')\n",
    "histo.set_title('Annual Income Index')\n",
    "histo.set_ylim(0,60)\n",
    "\n"
   ]
  },
  {
   "cell_type": "code",
   "execution_count": 39,
   "metadata": {},
   "outputs": [
    {
     "name": "stderr",
     "output_type": "stream",
     "text": [
      "No handles with labels found to put in legend.\n"
     ]
    },
    {
     "data": {
      "text/plain": [
       "<matplotlib.legend.Legend at 0x1444e0d3cc8>"
      ]
     },
     "execution_count": 39,
     "metadata": {},
     "output_type": "execute_result"
    },
    {
     "data": {
      "image/png": "[encoded data removed]",
      "text/plain": [
       "<Figure size 432x288 with 1 Axes>"
      ]
     },
     "metadata": {
      "needs_background": "light"
     },
     "output_type": "display_data"
    }
   ],
   "source": [
    "see=df.open_acc.hist()\n",
    "see.set_xlabel('No of open accounts')\n",
    "see.set_ylabel('No of People')\n",
    "see.set_title('No of accounts/Person')\n",
    "see.set_xlim(0,15)\n",
    "see.legend()"
   ]
  },
  {
   "cell_type": "code",
   "execution_count": 48,
   "metadata": {},
   "outputs": [
    {
     "data": {
      "text/plain": [
       "(0, 10)"
      ]
     },
     "execution_count": 48,
     "metadata": {},
     "output_type": "execute_result"
    },
    {
     "data": {
      "image/png": "[encoded data removed]",
      "text/plain": [
       "<Figure size 432x288 with 1 Axes>"
      ]
     },
     "metadata": {
      "needs_background": "light"
     },
     "output_type": "display_data"
    }
   ],
   "source": [
    "fig1=df['open_il_12m'].dropna().hist(bins=50)\n",
    "fig1.set_xlabel('No of Acc opened in Last 12 months')\n",
    "fig1.set_ylabel('No of User')\n",
    "fig1.set_title('Acc open index in last year')\n",
    "\n",
    "fig1.set_xlim(0,10)\n"
   ]
  },
  {
   "cell_type": "code",
   "execution_count": 57,
   "metadata": {},
   "outputs": [
    {
     "data": {
      "text/plain": [
       "<matplotlib.axes._subplots.AxesSubplot at 0x1444f29ee08>"
      ]
     },
     "execution_count": 57,
     "metadata": {},
     "output_type": "execute_result"
    },
    {
     "data": {
      "image/png": "[encoded data removed]",
      "text/plain": [
       "<Figure size 432x288 with 1 Axes>"
      ]
     },
     "metadata": {
      "needs_background": "light"
     },
     "output_type": "display_data"
    }
   ],
   "source": [
    "sns.countplot(x='int_rate', data=df)"
   ]
  },
  {
   "cell_type": "code",
   "execution_count": null,
   "metadata": {},
   "outputs": [],
   "source": [
    "a=3\n",
    "b=5\n",
    "c=a+b\n",
    "print(c)"
   ]
  },
  {
   "cell_type": "code",
   "execution_count": null,
   "metadata": {},
   "outputs": [],
   "source": []
  }
 ],
 "metadata": {
  "kernelspec": {
   "display_name": "Python 3",
   "language": "python",
   "name": "python3"
  },
  "language_info": {
   "codemirror_mode": {
    "name": "ipython",
    "version": 3
   },
   "file_extension": ".py",
   "mimetype": "text/x-python",
   "name": "python",
   "nbconvert_exporter": "python",
   "pygments_lexer": "ipython3",
   "version": "3.7.4"
  }
 },
 "nbformat": 4,
 "nbformat_minor": 2
}
